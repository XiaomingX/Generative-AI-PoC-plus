{
 "cells": [
  {
   "cell_type": "code",
   "execution_count": 1,
   "metadata": {},
   "outputs": [],
   "source": [
    "import os\n",
    "os.environ[\"OPENAI_API_TYPE\"] = \"azure\"\n",
    "os.environ[\"OPENAI_API_VERSION\"] = \"2022-12-01\"\n",
    "os.environ[\"OPENAI_API_BASE\"] = \"https://rg-openai-sandbox.openai.azure.com/\""
   ]
  },
  {
   "cell_type": "code",
   "execution_count": 5,
   "metadata": {},
   "outputs": [
    {
     "name": "stdout",
     "output_type": "stream",
     "text": [
      "BASE URL: https://api.open-meteo.com/\n",
      "\n",
      "API Documentation\n",
      "The API endpoint /v1/forecast accepts a geographical coordinate, a list of weather variables and responds with a JSON hourly weather forecast for 7 days. Time always starts at 0:00 today and contains 168 hours. All URL parameters are listed below:\n",
      "\n",
      "Parameter\tFormat\tRequired\tDefault\tDescription\n",
      "latitude, longitude\tFloating point\tYes\t\tGeographical WGS84 coordinate of the location\n",
      "hourly\tString array\tNo\t\tA list of weather variables which should be returned. Values can be comma separated, or multiple &hourly= parameter in the URL can be used.\n",
      "daily\tString array\tNo\t\tA list of daily weather variable aggregations which should be returned. Values can be comma separated, or multiple &daily= parameter in the URL can be used. If daily weather variables are specified, parameter timezone is required.\n",
      "current_weather\tBool\tNo\tfalse\tInclude current weather conditions in the JSON output.\n",
      "temperature_unit\tString\tNo\tcelsius\tIf fahrenheit is set, all temperature values are converted to Fahrenheit.\n",
      "windspeed_unit\tString\tNo\tkmh\tOther wind speed speed units: ms, mph and kn\n",
      "precipitation_unit\tString\tNo\tmm\tOther precipitation amount units: inch\n",
      "timeformat\tString\tNo\tiso8601\tIf format unixtime is selected, all time values are returned in UNIX epoch time in seconds. Please note that all timestamp are in GMT+0! For daily values with unix timestamps, please apply utc_offset_seconds again to get the correct date.\n",
      "timezone\tString\tNo\tGMT\tIf timezone is set, all timestamps are returned as local-time and data is returned starting at 00:00 local-time. Any time zone name from the time zone database is supported. If auto is set as a time zone, the coordinates will be automatically resolved to the local time zone.\n",
      "past_days\tInteger (0-2)\tNo\t0\tIf past_days is set, yesterday or the day before yesterday data are also returned.\n",
      "start_date\n",
      "end_date\tString (yyyy-mm-dd)\tNo\t\tThe time interval to get weather data. A day must be specified as an ISO8601 date (e.g. 2022-06-30).\n",
      "models\tString array\tNo\tauto\tManually select one or more weather models. Per default, the best suitable weather models will be combined.\n",
      "\n",
      "Hourly Parameter Definition\n",
      "The parameter &hourly= accepts the following values. Most weather variables are given as an instantaneous value for the indicated hour. Some variables like precipitation are calculated from the preceding hour as an average or sum.\n",
      "\n",
      "Variable\tValid time\tUnit\tDescription\n",
      "temperature_2m\tInstant\t°C (°F)\tAir temperature at 2 meters above ground\n",
      "snowfall\tPreceding hour sum\tcm (inch)\tSnowfall amount of the preceding hour in centimeters. For the water equivalent in millimeter, divide by 7. E.g. 7 cm snow = 10 mm precipitation water equivalent\n",
      "rain\tPreceding hour sum\tmm (inch)\tRain from large scale weather systems of the preceding hour in millimeter\n",
      "showers\tPreceding hour sum\tmm (inch)\tShowers from convective precipitation in millimeters from the preceding hour\n",
      "weathercode\tInstant\tWMO code\tWeather condition as a numeric code. Follow WMO weather interpretation codes. See table below for details.\n",
      "snow_depth\tInstant\tmeters\tSnow depth on the ground\n",
      "freezinglevel_height\tInstant\tmeters\tAltitude above sea level of the 0°C level\n",
      "visibility\tInstant\tmeters\tViewing distance in meters. Influenced by low clouds, humidity and aerosols. Maximum visibility is approximately 24 km.\n"
     ]
    }
   ],
   "source": [
    "from langchain.chains import APIChain\n",
    "\n",
    "from langchain.llms import AzureOpenAI\n",
    "llm = AzureOpenAI(deployment_name=\"davinci-003\", model_name=\"text-davinci-003\")\n",
    "\n",
    "from langchain.chains.api import open_meteo_docs\n",
    "#print(open_meteo_docs.OPEN_METEO_DOCS)\n",
    "\n",
    "chain_new = APIChain.from_llm_and_api_docs(llm, open_meteo_docs.OPEN_METEO_DOCS, verbose=True)"
   ]
  },
  {
   "cell_type": "code",
   "execution_count": 4,
   "metadata": {},
   "outputs": [
    {
     "name": "stdout",
     "output_type": "stream",
     "text": [
      "\n",
      "\n",
      "\u001b[1m> Entering new APIChain chain...\u001b[0m\n",
      "\u001b[32;1m\u001b[1;3mhttps://api.open-meteo.com/v1/forecast?latitude=52.37&longitude=4.89&current_weather=true&temperature_unit=celsius&hourly=temperature_2m\u001b[0m\n",
      "\u001b[33;1m\u001b[1;3m{\"latitude\":52.36,\"longitude\":4.9,\"generationtime_ms\":0.38802623748779297,\"utc_offset_seconds\":0,\"timezone\":\"GMT\",\"timezone_abbreviation\":\"GMT\",\"elevation\":11.0,\"current_weather\":{\"temperature\":15.3,\"windspeed\":5.9,\"winddirection\":223.0,\"weathercode\":61,\"is_day\":1,\"time\":\"2023-05-05T13:00\"},\"hourly_units\":{\"time\":\"iso8601\",\"temperature_2m\":\"°C\"},\"hourly\":{\"time\":[\"2023-05-05T00:00\",\"2023-05-05T01:00\",\"2023-05-05T02:00\",\"2023-05-05T03:00\",\"2023-05-05T04:00\",\"2023-05-05T05:00\",\"2023-05-05T06:00\",\"2023-05-05T07:00\",\"2023-05-05T08:00\",\"2023-05-05T09:00\",\"2023-05-05T10:00\",\"2023-05-05T11:00\",\"2023-05-05T12:00\",\"2023-05-05T13:00\",\"2023-05-05T14:00\",\"2023-05-05T15:00\",\"2023-05-05T16:00\",\"2023-05-05T17:00\",\"2023-05-05T18:00\",\"2023-05-05T19:00\",\"2023-05-05T20:00\",\"2023-05-05T21:00\",\"2023-05-05T22:00\",\"2023-05-05T23:00\",\"2023-05-06T00:00\",\"2023-05-06T01:00\",\"2023-05-06T02:00\",\"2023-05-06T03:00\",\"2023-05-06T04:00\",\"2023-05-06T05:00\",\"2023-05-06T06:00\",\"2023-05-06T07:00\",\"2023-05-06T08:00\",\"2023-05-06T09:00\",\"2023-05-06T10:00\",\"2023-05-06T11:00\",\"2023-05-06T12:00\",\"2023-05-06T13:00\",\"2023-05-06T14:00\",\"2023-05-06T15:00\",\"2023-05-06T16:00\",\"2023-05-06T17:00\",\"2023-05-06T18:00\",\"2023-05-06T19:00\",\"2023-05-06T20:00\",\"2023-05-06T21:00\",\"2023-05-06T22:00\",\"2023-05-06T23:00\",\"2023-05-07T00:00\",\"2023-05-07T01:00\",\"2023-05-07T02:00\",\"2023-05-07T03:00\",\"2023-05-07T04:00\",\"2023-05-07T05:00\",\"2023-05-07T06:00\",\"2023-05-07T07:00\",\"2023-05-07T08:00\",\"2023-05-07T09:00\",\"2023-05-07T10:00\",\"2023-05-07T11:00\",\"2023-05-07T12:00\",\"2023-05-07T13:00\",\"2023-05-07T14:00\",\"2023-05-07T15:00\",\"2023-05-07T16:00\",\"2023-05-07T17:00\",\"2023-05-07T18:00\",\"2023-05-07T19:00\",\"2023-05-07T20:00\",\"2023-05-07T21:00\",\"2023-05-07T22:00\",\"2023-05-07T23:00\",\"2023-05-08T00:00\",\"2023-05-08T01:00\",\"2023-05-08T02:00\",\"2023-05-08T03:00\",\"2023-05-08T04:00\",\"2023-05-08T05:00\",\"2023-05-08T06:00\",\"2023-05-08T07:00\",\"2023-05-08T08:00\",\"2023-05-08T09:00\",\"2023-05-08T10:00\",\"2023-05-08T11:00\",\"2023-05-08T12:00\",\"2023-05-08T13:00\",\"2023-05-08T14:00\",\"2023-05-08T15:00\",\"2023-05-08T16:00\",\"2023-05-08T17:00\",\"2023-05-08T18:00\",\"2023-05-08T19:00\",\"2023-05-08T20:00\",\"2023-05-08T21:00\",\"2023-05-08T22:00\",\"2023-05-08T23:00\",\"2023-05-09T00:00\",\"2023-05-09T01:00\",\"2023-05-09T02:00\",\"2023-05-09T03:00\",\"2023-05-09T04:00\",\"2023-05-09T05:00\",\"2023-05-09T06:00\",\"2023-05-09T07:00\",\"2023-05-09T08:00\",\"2023-05-09T09:00\",\"2023-05-09T10:00\",\"2023-05-09T11:00\",\"2023-05-09T12:00\",\"2023-05-09T13:00\",\"2023-05-09T14:00\",\"2023-05-09T15:00\",\"2023-05-09T16:00\",\"2023-05-09T17:00\",\"2023-05-09T18:00\",\"2023-05-09T19:00\",\"2023-05-09T20:00\",\"2023-05-09T21:00\",\"2023-05-09T22:00\",\"2023-05-09T23:00\",\"2023-05-10T00:00\",\"2023-05-10T01:00\",\"2023-05-10T02:00\",\"2023-05-10T03:00\",\"2023-05-10T04:00\",\"2023-05-10T05:00\",\"2023-05-10T06:00\",\"2023-05-10T07:00\",\"2023-05-10T08:00\",\"2023-05-10T09:00\",\"2023-05-10T10:00\",\"2023-05-10T11:00\",\"2023-05-10T12:00\",\"2023-05-10T13:00\",\"2023-05-10T14:00\",\"2023-05-10T15:00\",\"2023-05-10T16:00\",\"2023-05-10T17:00\",\"2023-05-10T18:00\",\"2023-05-10T19:00\",\"2023-05-10T20:00\",\"2023-05-10T21:00\",\"2023-05-10T22:00\",\"2023-05-10T23:00\",\"2023-05-11T00:00\",\"2023-05-11T01:00\",\"2023-05-11T02:00\",\"2023-05-11T03:00\",\"2023-05-11T04:00\",\"2023-05-11T05:00\",\"2023-05-11T06:00\",\"2023-05-11T07:00\",\"2023-05-11T08:00\",\"2023-05-11T09:00\",\"2023-05-11T10:00\",\"2023-05-11T11:00\",\"2023-05-11T12:00\",\"2023-05-11T13:00\",\"2023-05-11T14:00\",\"2023-05-11T15:00\",\"2023-05-11T16:00\",\"2023-05-11T17:00\",\"2023-05-11T18:00\",\"2023-05-11T19:00\",\"2023-05-11T20:00\",\"2023-05-11T21:00\",\"2023-05-11T22:00\",\"2023-05-11T23:00\"],\"temperature_2m\":[14.0,13.9,13.1,12.5,11.9,11.9,13.0,14.4,15.5,16.8,16.1,15.4,15.3,15.3,14.3,15.3,16.2,15.8,15.7,14.8,13.6,12.7,11.8,11.1,10.8,10.8,10.7,10.1,9.7,9.6,10.7,12.6,14.6,16.6,17.6,18.3,18.9,19.0,19.5,19.8,18.2,17.2,15.3,14.8,14.7,14.3,14.0,14.0,13.8,13.5,13.1,13.0,13.0,13.0,13.3,13.4,13.7,14.5,16.1,16.8,17.3,19.4,19.1,18.3,17.1,17.1,16.8,16.2,15.5,15.0,14.6,14.2,13.7,13.4,12.4,11.8,11.3,11.6,12.6,14.4,15.9,17.2,17.2,17.5,16.8,16.3,15.5,14.6,14.2,14.0,13.7,13.5,13.4,13.3,13.3,13.3,13.2,13.1,12.9,12.7,12.6,12.7,13.0,13.6,14.4,15.5,16.1,16.6,17.1,17.5,17.7,17.9,17.8,17.5,16.9,16.0,15.0,13.8,13.5,13.4,13.3,13.2,13.1,13.0,13.1,13.2,13.3,13.9,15.4,17.0,17.6,17.8,18.0,18.2,18.3,18.3,17.9,17.3,16.4,15.9,15.3,14.7,14.3,14.1,13.8,13.4,13.1,12.8,12.7,12.8,13.3,14.3,15.5,17.2,18.3,19.3,20.4,20.9,21.2,21.0,20.2,19.0,17.2,15.7,14.2,12.5,11.9,11.6]}}\u001b[0m\n",
      "\n",
      "\u001b[1m> Finished chain.\u001b[0m\n"
     ]
    },
    {
     "data": {
      "text/plain": [
       "' The temperature right now in Amsterdam is 15.3°C.'"
      ]
     },
     "execution_count": 4,
     "metadata": {},
     "output_type": "execute_result"
    }
   ],
   "source": [
    "chain_new.run('What is the temperature like right now in Amsterdam?')"
   ]
  }
 ],
 "metadata": {
  "kernelspec": {
   "display_name": "Python 3",
   "language": "python",
   "name": "python3"
  },
  "language_info": {
   "codemirror_mode": {
    "name": "ipython",
    "version": 3
   },
   "file_extension": ".py",
   "mimetype": "text/x-python",
   "name": "python",
   "nbconvert_exporter": "python",
   "pygments_lexer": "ipython3",
   "version": "3.12.0"
  },
  "orig_nbformat": 4
 },
 "nbformat": 4,
 "nbformat_minor": 2
}
