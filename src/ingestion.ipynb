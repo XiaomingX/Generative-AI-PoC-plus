{
 "cells": [
  {
   "attachments": {},
   "cell_type": "markdown",
   "metadata": {},
   "source": [
    "# Sub Function 1: Convert PDF to json file split on pages"
   ]
  },
  {
   "cell_type": "code",
   "execution_count": 1,
   "metadata": {},
   "outputs": [],
   "source": [
    "import os\n",
    "\n",
    "os.environ[\"Azure_BlobStorage_IngestionContainer\"] = \"ingestion-documents\"\n",
    "os.environ[\"Azure_BlobStorage_JsonContainer\"] = \"json-documents\"\n",
    "os.environ[\"Azure_BlobStorage_VectorContainer\"] = \"vector-documents\""
   ]
  },
  {
   "cell_type": "code",
   "execution_count": 2,
   "metadata": {},
   "outputs": [],
   "source": [
    "import json\n",
    "import os\n",
    "from langchain.document_loaders import PyMuPDFLoader\n",
    "from cloudpathlib.azure import AzureBlobPath, AzureBlobClient\n",
    "\n",
    "file_name = \"apexxnar-epar-product-information_nl.pdf\"\n",
    "\n",
    "client = AzureBlobClient(connection_string=os.environ.get(\"Azure_BlobStorage_ConnectionString\"))\n",
    "path = AzureBlobPath(\"az://\" + os.environ.get(\"Azure_BlobStorage_IngestionContainer\") + \"/\" + file_name, client=client)\n",
    "\n",
    "with path.open(mode=\"r\") as file:\n",
    "    loader = PyMuPDFLoader(file.name)\n",
    "    data = loader.load()\n",
    "    json_output = json.dumps([d.dict() for d in data])\n",
    "    jsonFile = AzureBlobPath(\"az://\" + os.environ.get(\"Azure_BlobStorage_JsonContainer\") + \"/\" + file_name.replace(\".pdf\",\".json\"), client=client)\n",
    "    jsonFile.write_text(json_output)"
   ]
  },
  {
   "attachments": {},
   "cell_type": "markdown",
   "metadata": {},
   "source": [
    "# Sub Function 2: Tokenize json file and store as FAISS index"
   ]
  },
  {
   "cell_type": "code",
   "execution_count": 4,
   "metadata": {},
   "outputs": [
    {
     "name": "stderr",
     "output_type": "stream",
     "text": [
      "Retrying langchain.embeddings.openai.embed_with_retry.<locals>._embed_with_retry in 4.0 seconds as it raised RateLimitError: Requests to the Embeddings_Create Operation under Azure OpenAI API version 2022-12-01 have exceeded call rate limit of your current OpenAI S0 pricing tier. Please retry after 1 second. Please go here: https://aka.ms/oai/quotaincrease if you would like to further increase the default rate limit..\n",
      "Retrying langchain.embeddings.openai.embed_with_retry.<locals>._embed_with_retry in 4.0 seconds as it raised RateLimitError: Requests to the Embeddings_Create Operation under Azure OpenAI API version 2022-12-01 have exceeded call rate limit of your current OpenAI S0 pricing tier. Please retry after 1 second. Please go here: https://aka.ms/oai/quotaincrease if you would like to further increase the default rate limit..\n",
      "Retrying langchain.embeddings.openai.embed_with_retry.<locals>._embed_with_retry in 4.0 seconds as it raised RateLimitError: Requests to the Embeddings_Create Operation under Azure OpenAI API version 2022-12-01 have exceeded call rate limit of your current OpenAI S0 pricing tier. Please retry after 1 second. Please go here: https://aka.ms/oai/quotaincrease if you would like to further increase the default rate limit..\n"
     ]
    }
   ],
   "source": [
    "import json\n",
    "import shutil\n",
    "from pathlib import Path\n",
    "from langchain.schema import Document\n",
    "from langchain.embeddings.openai import OpenAIEmbeddings\n",
    "from langchain.vectorstores.faiss import FAISS\n",
    "from cloudpathlib.azure import AzureBlobPath, AzureBlobClient\n",
    "\n",
    "file_name = \"apexxnar-epar-product-information_nl.json\"\n",
    "\n",
    "client = AzureBlobClient(connection_string=os.environ.get(\"Azure_BlobStorage_ConnectionString\"))\n",
    "path = AzureBlobPath(\"az://\" + os.environ.get(\"Azure_BlobStorage_JsonContainer\") + \"/\" + file_name, client=client)\n",
    "vectorPath = AzureBlobPath(\"az://\" + os.environ.get(\"Azure_BlobStorage_VectorContainer\") + \"/\" + path.stem, client=client)\n",
    "\n",
    "tempPath = Path(path.stem)\n",
    "tempPath.mkdir(exist_ok=True)\n",
    "\n",
    "docs = [Document.parse_obj(d) for d in json.loads(path.read_text())]\n",
    "\n",
    "embeddings = OpenAIEmbeddings(chunk_size=1, deployment=\"text-embedding-ada-002\", model=\"text-embedding-ada-002\")\n",
    "faiss = FAISS.from_documents(docs, embeddings)\n",
    "\n",
    "# TODO I have to save to this tempPath because I can't get it to work with the vectorPath directly.\n",
    "faiss.save_local(tempPath, \"index\")\n",
    "\n",
    "vectorPath.upload_from(tempPath)\n",
    "shutil.rmtree(tempPath)"
   ]
  }
 ],
 "metadata": {
  "kernelspec": {
   "display_name": "Python 3",
   "language": "python",
   "name": "python3"
  },
  "language_info": {
   "codemirror_mode": {
    "name": "ipython",
    "version": 3
   },
   "file_extension": ".py",
   "mimetype": "text/x-python",
   "name": "python",
   "nbconvert_exporter": "python",
   "pygments_lexer": "ipython3",
   "version": "3.11.3"
  },
  "orig_nbformat": 4
 },
 "nbformat": 4,
 "nbformat_minor": 2
}
