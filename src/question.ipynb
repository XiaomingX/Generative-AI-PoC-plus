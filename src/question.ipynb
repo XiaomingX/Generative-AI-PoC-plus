{
 "cells": [
  {
   "cell_type": "code",
   "execution_count": 3,
   "metadata": {},
   "outputs": [],
   "source": [
    "import os\n",
    "\n",
    "os.environ[\"Azure_BlobStorage_VectorContainer\"] = \"vector-documents\""
   ]
  },
  {
   "attachments": {},
   "cell_type": "markdown",
   "metadata": {},
   "source": [
    "# Getting Context\n",
    "\n",
    "This is not ideal, we are using FAISS in a way that it should not be used. We create a \"index\" per file and than we load all files / indexes into memory to beable to query it. This will not scale."
   ]
  },
  {
   "cell_type": "code",
   "execution_count": 4,
   "metadata": {},
   "outputs": [],
   "source": [
    "import shutil\n",
    "\n",
    "from pathlib import Path\n",
    "from langchain.embeddings.openai import OpenAIEmbeddings\n",
    "from langchain.vectorstores.faiss import FAISS\n",
    "from cloudpathlib.azure import AzureBlobPath, AzureBlobClient\n",
    "from cloudpathlib import CloudPath\n",
    "\n",
    "def download_index_files_from_azure(directory: AzureBlobPath, \n",
    "                             local_dir: Path, \n",
    "                             client: AzureBlobClient):\n",
    "    local_file = download_file_from_azure(directory, \"index.faiss\", local_dir, client)\n",
    "    download_file_from_azure(directory, \"index.pkl\", local_dir, client)\n",
    "    return local_file\n",
    "\n",
    "def download_file_from_azure(directory: AzureBlobPath, \n",
    "                             file_name: str, \n",
    "                             local_dir: Path, \n",
    "                             client: AzureBlobClient):\n",
    "    cloud_file = CloudPath(f\"{directory}/{file_name}\", client=client)\n",
    "    local_file = local_dir / f\"{directory.stem}/{file_name}\"\n",
    "    local_file.parent.mkdir(parents=True, exist_ok=True)\n",
    "    cloud_file.download_to(local_file)\n",
    "    return local_file\n",
    "\n",
    "embeddings = OpenAIEmbeddings(chunk_size=1, deployment=\"text-embedding-ada-002\", model=\"text-embedding-ada-002\")\n",
    "client = AzureBlobClient(connection_string=os.environ.get(\"Azure_BlobStorage_ConnectionString\"))\n",
    "vectorPath = AzureBlobPath(\"az://\" + os.environ.get(\"Azure_BlobStorage_VectorContainer\"), client=client)\n",
    "\n",
    "directories = [item for item in vectorPath.iterdir() if item.is_dir()]\n",
    "\n",
    "local_tmp_dir = Path(\"/tmp/faiss_indices\")\n",
    "\n",
    "faiss_dbs = []\n",
    "for directory in directories:\n",
    "    local_faiss_file = download_index_files_from_azure(directory, local_tmp_dir, client)\n",
    "    faiss_db = FAISS.load_local(local_faiss_file.parent, embeddings, \"index\")\n",
    "    faiss_dbs.append(faiss_db)\n",
    "\n",
    "shutil.rmtree(local_tmp_dir)\n",
    "\n",
    "merged_db = faiss_dbs[0] \n",
    "for db in faiss_dbs[1:]:\n",
    "    merged_db.merge_from(db)\n",
    "\n",
    "retriever = merged_db.as_retriever()\n",
    "\n",
    "question = \"What are the side effects of Apexxnar?\"\n",
    "input_docs = retriever.get_relevant_documents(question)"
   ]
  },
  {
   "attachments": {},
   "cell_type": "markdown",
   "metadata": {},
   "source": [
    "Building the Prompt"
   ]
  },
  {
   "cell_type": "code",
   "execution_count": 12,
   "metadata": {},
   "outputs": [],
   "source": [
    "from langchain.prompts import PromptTemplate\n",
    "\n",
    "for i, d in enumerate(input_docs):\n",
    "    d.metadata[\"source\"] = i\n",
    "snippets = \"\"\n",
    "for d in input_docs:\n",
    "    snippets = snippets + f\"[{d.metadata['source']}] {d.page_content}\\n\\n\"\n",
    "\n",
    "template = \"\"\"\n",
    "You are a specialist doctor.\n",
    "Your task is to assist other doctors find information about medical guidelines. The medical guidelines are defined by the following set of snippets identified by numbers in the form [1].  \n",
    "------------  \n",
    "SNIPPETS  \n",
    "{snippets}  \n",
    "------------  \n",
    "Your answer must be based solely on the SNIPPETS above. Every part of the answer must be supported only by the SNIPPETS above. If the answer consists of steps, provide a clear bullet point list. If you don't know the answer, just say that you don't know. Don't try to make up an answer. Be clear and concise and provide one final answer. NEVER provide questions in the answer.\n",
    "\n",
    "Provide the answer as a LIST of JSON formatted dictionaries with the following keys:\n",
    "- \"answer_sentence\": str, // the answer in your own words\n",
    "- \"snippet_id\": int,  // the snippet your answer is based on\n",
    "- \"relevant_substring\": str, // a direct quote from the snippet that was most relevant in creating your answer. Use ellipses ... for substrings longer than 10 words.\n",
    "  \n",
    "QUESTION: {question}?\n",
    "\"\"\".strip()\n",
    "\n",
    "prompt_template = PromptTemplate(\n",
    "    input_variables=[\n",
    "        \"snippets\",\n",
    "        \"question\"\n",
    "    ],\n",
    "    template=template,\n",
    ")\n",
    "prompt = prompt_template.format(question=question,snippets=snippets)"
   ]
  },
  {
   "attachments": {},
   "cell_type": "markdown",
   "metadata": {},
   "source": [
    "Returning the response"
   ]
  },
  {
   "cell_type": "code",
   "execution_count": 20,
   "metadata": {},
   "outputs": [
    {
     "name": "stdout",
     "output_type": "stream",
     "text": [
      "Answer: The side effects of Apexxnar are listed in Table 1 of snippet [1]. The most commonly reported side effects include pain at the injection site, muscle pain, fatigue, headache, and joint pain. Other reported side effects include diarrhea, nausea, vomiting, skin rash, and fever. Some participants also reported allergic reactions such as facial swelling, difficulty breathing, and bronchospasm. Snippet [1] also mentions that the safety profile of Apexxnar is similar to that of Prevenar 13 and no new side effects were identified. \n",
      "\n",
      "[\n",
      "    {\n",
      "        \"answer_sentence\": \"The side effects of Apexxnar are listed in Table 1 of snippet [1].\",\n",
      "        \"snippet_id\": 1,\n",
      "        \"relevant_substring\": \"Tabel 1.\\nBijwerkingen uit klinische onderzoeken naar Apexxnar\"\n",
      "    },\n",
      "    {\n",
      "        \"answer_sentence\": \"The most commonly reported side effects include pain at the injection site, muscle pain, fatigue, headache, and joint pain.\",\n",
      "        \"snippet_id\": 1,\n",
      "        \"relevant_substring\": \"Bij deelnemers van 18 tot 49 jaar in onderzoeken 1007 and fase 3-onderzoek B7471008 ...\"\n",
      "    },\n",
      "    {\n",
      "        \"answer_sentence\": \"Snippet [1] also mentions that the safety profile of Apexxnar is similar to that of Prevenar 13 and no new side effects were identified.\",\n",
      "        \"snippet_id\": 1,\n",
      "        \"relevant_substring\": \"In klinische onderzoeken was het veiligheidsprofiel van Apexxnar vergelijkbaar met dat van Prevenar 13.\"\n",
      "    }\n",
      "]\n"
     ]
    }
   ],
   "source": [
    "import openai\n",
    "\n",
    "openai.api_version = \"2023-03-15-preview\" \n",
    "\n",
    "response = openai.ChatCompletion.create(\n",
    "    engine=\"gpt-35-turbo\", # The deployment name you chose when you deployed the ChatGPT or GPT-4 model.\n",
    "    messages=[\n",
    "        {\"role\": \"system\", \"content\": \"You are a helpful assistant.\"},\n",
    "        {\"role\": \"user\", \"content\": prompt},\n",
    "    ],\n",
    "    temperature=0,\n",
    "    max_tokens=1000\n",
    ")\n",
    "\n",
    "answer_str = response['choices'][0]['message']['content']\n",
    "print(answer_str)"
   ]
  }
 ],
 "metadata": {
  "kernelspec": {
   "display_name": "Python 3",
   "language": "python",
   "name": "python3"
  },
  "language_info": {
   "codemirror_mode": {
    "name": "ipython",
    "version": 3
   },
   "file_extension": ".py",
   "mimetype": "text/x-python",
   "name": "python",
   "nbconvert_exporter": "python",
   "pygments_lexer": "ipython3",
   "version": "3.11.3"
  },
  "orig_nbformat": 4
 },
 "nbformat": 4,
 "nbformat_minor": 2
}
