{
 "cells": [
  {
   "cell_type": "code",
   "execution_count": null,
   "metadata": {},
   "outputs": [
    {
     "ename": "",
     "evalue": "",
     "output_type": "error",
     "traceback": [
      "\u001b[1;31mRunning cells with 'c:\\Users\\DuncanRoosma\\AppData\\Local\\Programs\\Python\\Python312\\python.exe' requires the ipykernel package.\n",
      "\u001b[1;31mRun the following command to install 'ipykernel' into the Python environment. \n",
      "\u001b[1;31mCommand: 'c:/Users/DuncanRoosma/AppData/Local/Programs/Python/Python312/python.exe -m pip install ipykernel -U --user --force-reinstall'"
     ]
    }
   ],
   "source": [
    "import json\n",
    "import os\n",
    "import azure.functions as func\n",
    "from langchain.document_loaders import PyMuPDFLoader\n",
    "from cloudpathlib.azure import AzureBlobPath, AzureBlobClient\n",
    "\n",
    "client = AzureBlobClient(connection_string=os.environ.get(\"AzureBlobStorageConnectionString\"))\n",
    "path = AzureBlobPath(\"az://\" + os.environ.get(\"AzureBlobStorageIngestionContainer\") + \"/\" + file_name, client=client)\n",
    "\n",
    "with path.open(mode=\"r\") as file:\n",
    "    loader = PyMuPDFLoader(file.name)\n",
    "    data = loader.load()\n",
    "    json_output = json.dumps([d.dict() for d in data])\n",
    "    jsonFile = AzureBlobPath(\"az://\" + os.environ.get(\"AzureBlobStorageJsonContainer\") + \"/\" + file_name.replace(\".pdf\",\".json\"), client=client)\n",
    "    jsonFile.write_text(json_output)"
   ]
  }
 ],
 "metadata": {
  "kernelspec": {
   "display_name": "Python 3",
   "language": "python",
   "name": "python3"
  },
  "language_info": {
   "name": "python",
   "version": "3.12.0"
  },
  "orig_nbformat": 4
 },
 "nbformat": 4,
 "nbformat_minor": 2
}
