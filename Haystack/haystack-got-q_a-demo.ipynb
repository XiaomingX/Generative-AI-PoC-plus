{
    "cells": [
        {
            "cell_type": "code",
            "execution_count": null,
            "metadata": {
                "id": "F7t8a9VzzVuT"
            },
            "outputs": [],
            "source": [
                "#Make sure GPU hardware acceleration is enabled.\n",
                "\n",
                "%%bash\n",
                "\n",
                "nvidia-smi"
            ]
        },
        {
            "cell_type": "code",
            "execution_count": 2,
            "metadata": {
                "executionInfo": {
                    "elapsed": 422,
                    "status": "ok",
                    "timestamp": 1683204552985,
                    "user": {
                        "displayName": "Jeroen van de Kraats",
                        "userId": "00007251101888404800"
                    },
                    "user_tz": -120
                },
                "id": "D7Xw5w2izy01"
            },
            "outputs": [],
            "source": [
                "# Set log level to INFO\n",
                "\n",
                "import logging\n",
                "\n",
                "logging.basicConfig(format=\"%(levelname)s - %(name)s -  %(message)s\", level=logging.WARNING)\n",
                "logging.getLogger(\"haystack\").setLevel(logging.INFO)\n",
                "\n",
                " "
            ]
        },
        {
            "cell_type": "code",
            "execution_count": null,
            "metadata": {
                "colab": {
                    "base_uri": "https://localhost:8080/"
                },
                "executionInfo": {
                    "elapsed": 12212,
                    "status": "ok",
                    "timestamp": 1683204791094,
                    "user": {
                        "displayName": "Jeroen van de Kraats",
                        "userId": "00007251101888404800"
                    },
                    "user_tz": -120
                },
                "id": "qz9Kz5pB0of6",
                "outputId": "05a14fb1-fb04-4dda-e897-b2ed992be438"
            },
            "outputs": [
                {
                    "ename": "",
                    "evalue": "",
                    "output_type": "error",
                    "traceback": [
                        "\u001b[1;31mRunning cells with 'c:\\Users\\DuncanRoosma\\AppData\\Local\\Programs\\Python\\Python312\\python.exe' requires the ipykernel package.\n",
                        "\u001b[1;31mRun the following command to install 'ipykernel' into the Python environment. \n",
                        "\u001b[1;31mCommand: 'c:/Users/DuncanRoosma/AppData/Local/Programs/Python/Python312/python.exe -m pip install ipykernel -U --user --force-reinstall'"
                    ]
                }
            ],
            "source": [
                "from haystack.document_stores import InMemoryDocumentStore\n",
                "\n",
                "document_store = InMemoryDocumentStore(use_bm25=True)\n"
            ]
        },
        {
            "cell_type": "code",
            "execution_count": 5,
            "metadata": {
                "colab": {
                    "base_uri": "https://localhost:8080/"
                },
                "executionInfo": {
                    "elapsed": 2535,
                    "status": "ok",
                    "timestamp": 1683204828472,
                    "user": {
                        "displayName": "Jeroen van de Kraats",
                        "userId": "00007251101888404800"
                    },
                    "user_tz": -120
                },
                "id": "rI4s8P-X0zRW",
                "outputId": "f971c40b-9afe-484f-defd-e62327fb8ce2"
            },
            "outputs": [
                {
                    "name": "stderr",
                    "output_type": "stream",
                    "text": [
                        "INFO:haystack.utils.import_utils:Fetching from https://s3.eu-central-1.amazonaws.com/deepset.ai-farm-qa/datasets/documents/wiki_gameofthrones_txt1.zip to 'data/build_your_first_question_answering_system'\n"
                    ]
                },
                {
                    "data": {
                        "text/plain": [
                            "True"
                        ]
                    },
                    "execution_count": 5,
                    "metadata": {},
                    "output_type": "execute_result"
                }
            ],
            "source": [
                "#Retrieve the data set\n",
                "from haystack.utils import fetch_archive_from_http\n",
                "\n",
                "doc_dir = \"data/build_your_first_question_answering_system\"\n",
                "\n",
                "fetch_archive_from_http(\n",
                "    url=\"https://s3.eu-central-1.amazonaws.com/deepset.ai-farm-qa/datasets/documents/wiki_gameofthrones_txt1.zip\",\n",
                "    output_dir=doc_dir\n",
                ")\n"
            ]
        },
        {
            "cell_type": "code",
            "execution_count": null,
            "metadata": {
                "id": "MIto5sYu05np"
            },
            "outputs": [],
            "source": [
                "# Use the TextIndexingPipeline to convert the files into Haystack Document objects and write them into the DocumentStore\n",
                "\n",
                "import os\n",
                "from haystack.pipelines.standard_pipelines import TextIndexingPipeline\n",
                "\n",
                "files_to_index = [doc_dir + \"/\" + f for f in os.listdir(doc_dir)]\n",
                "indexing_pipeline = TextIndexingPipeline(document_store)\n",
                "indexing_pipeline.run_batch(file_paths=files_to_index)\n"
            ]
        },
        {
            "cell_type": "code",
            "execution_count": 7,
            "metadata": {
                "executionInfo": {
                    "elapsed": 417,
                    "status": "ok",
                    "timestamp": 1683205261824,
                    "user": {
                        "displayName": "Jeroen van de Kraats",
                        "userId": "00007251101888404800"
                    },
                    "user_tz": -120
                },
                "id": "Ztl-jFBT2X1O"
            },
            "outputs": [],
            "source": [
                "# Initialize Retriever (that uses the BM25 algorithm)\n",
                "\n",
                "from haystack.nodes import BM25Retriever\n",
                "\n",
                "retriever = BM25Retriever(document_store=document_store)\n"
            ]
        },
        {
            "cell_type": "code",
            "execution_count": 18,
            "metadata": {
                "executionInfo": {
                    "elapsed": 3074,
                    "status": "ok",
                    "timestamp": 1683210895600,
                    "user": {
                        "displayName": "Jeroen van de Kraats",
                        "userId": "00007251101888404800"
                    },
                    "user_tz": -120
                },
                "id": "2h2deG4CAa5D"
            },
            "outputs": [],
            "source": [
                "# Initialize the Reader (base-sized RoBERTa question answering model)\n",
                "import os\n",
                "\n",
                "from haystack.nodes import OpenAIAnswerGenerator\n",
                "\n",
                "reader = OpenAIAnswerGenerator(api_key=os.getenv(\"OPENAI_API_KEY\"), azure_base_url=\"https://rg-openai-sandbox.openai.azure.com/\",\n",
                "                               azure_deployment_name=\"davinci-003\", \n",
                "                               model=\"text-davinci-003\")\n"
            ]
        },
        {
            "cell_type": "code",
            "execution_count": 21,
            "metadata": {
                "executionInfo": {
                    "elapsed": 377,
                    "status": "ok",
                    "timestamp": 1683210917554,
                    "user": {
                        "displayName": "Jeroen van de Kraats",
                        "userId": "00007251101888404800"
                    },
                    "user_tz": -120
                },
                "id": "tIIpW1rVAqbK"
            },
            "outputs": [],
            "source": [
                "# Create the pipeline\n",
                "\n",
                "from haystack.pipelines import ExtractiveQAPipeline\n",
                "\n",
                "pipe = ExtractiveQAPipeline(reader, retriever)\n"
            ]
        },
        {
            "cell_type": "code",
            "execution_count": 24,
            "metadata": {
                "colab": {
                    "base_uri": "https://localhost:8080/"
                },
                "executionInfo": {
                    "elapsed": 3776,
                    "status": "ok",
                    "timestamp": 1683211002082,
                    "user": {
                        "displayName": "Jeroen van de Kraats",
                        "userId": "00007251101888404800"
                    },
                    "user_tz": -120
                },
                "id": "HNlv1FowAvCA",
                "outputId": "58e20eca-5453-4d2f-ba81-52f4c6cfaea4"
            },
            "outputs": [
                {
                    "name": "stderr",
                    "output_type": "stream",
                    "text": [
                        "WARNING:haystack.utils.openai_utils:5 out of the 5 completions have been truncated before reaching a natural stopping point. Increase the max_tokens parameter to allow for longer completions.\n"
                    ]
                },
                {
                    "name": "stdout",
                    "output_type": "stream",
                    "text": [
                        "'Query: Can you describe characteristics of Arya Stark?'\n",
                        "'Answers:'\n",
                        "[   {   'answer': ' Arya Stark is a character in the series \"A Song of Ice and '\n",
                        "                  'Fire\" who is described as brave, determined, and '\n",
                        "                  'resourceful. She is known for chasing cats and for her '\n",
                        "                  'pursuit of justice. She is also a skilled fighter and has'},\n",
                        "    {   'answer': \" Arya Stark is a character in the series ''A Song of Ice \"\n",
                        "                  \"and Fire''. She is a young girl who is brave and \"\n",
                        "                  'determined, and is often seen chasing cats in scenes filmed '\n",
                        "                  'at Fort St. Angelo. She is also a skilled fighter and'},\n",
                        "    {   'answer': \" Arya Stark is a character in the series ''A Song of Ice \"\n",
                        "                  \"and Fire''. She is a young girl who is brave, determined, \"\n",
                        "                  'and resourceful. She is also a skilled fighter and is often '\n",
                        "                  \"seen chasing cats in the streets of King's\"},\n",
                        "    {   'answer': \" Arya Stark is a character in the series ''A Song of Ice \"\n",
                        "                  \"and Fire''. She is a young girl who is brave, determined, \"\n",
                        "                  'and resourceful. She is also a skilled fighter and is often '\n",
                        "                  \"seen chasing cats in the streets of King's\"},\n",
                        "    {   'answer': ' Arya Stark is a character in the series \"A Song of Ice and '\n",
                        "                  'Fire\" who is described as brave and determined. She is '\n",
                        "                  'often seen chasing cats and has a strong sense of justice. '\n",
                        "                  'She is also known for her quick wit and resourcefulness'}]\n"
                    ]
                }
            ],
            "source": [
                "# Let's ask some questions!\n",
                "from pprint import pprint\n",
                "from haystack.utils import print_answers\n",
                "\n",
                "answer = pipe.run(\n",
                "    query=\"Can you describe characteristics of Arya Stark?\",\n",
                "    params={\n",
                "        \"Retriever\": {\"top_k\": 10},\n",
                "        \"Reader\": {\"top_k\": 5}\n",
                "    }\n",
                ")\n",
                "\n",
                "# pprint(answer)\n",
                "print_answers(\n",
                "    answer,\n",
                "    details=\"minimum\" ## Choose from `minimum`, `medium`, and `all`\n",
                ")"
            ]
        }
    ],
    "metadata": {
        "accelerator": "GPU",
        "colab": {
            "authorship_tag": "ABX9TyPpQlWZqXrc4+qQPYM+7T/m",
            "provenance": []
        },
        "gpuClass": "standard",
        "kernelspec": {
            "display_name": "Python 3",
            "name": "python3"
        },
        "language_info": {
            "name": "python",
            "version": "3.12.0"
        }
    },
    "nbformat": 4,
    "nbformat_minor": 0
}
